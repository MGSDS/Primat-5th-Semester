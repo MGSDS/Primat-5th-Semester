{
 "cells": [
  {
   "cell_type": "code",
   "execution_count": 1,
   "metadata": {},
   "outputs": [],
   "source": [
    "import numpy as np"
   ]
  },
  {
   "cell_type": "code",
   "execution_count": 2,
   "metadata": {
    "collapsed": false,
    "jupyter": {
     "outputs_hidden": false
    }
   },
   "outputs": [],
   "source": [
    "def read_file(path):\n",
    "    f = open(path, \"r\")\n",
    "    func = f.readline().replace('\\n', '')\n",
    "    limitations = []\n",
    "    f.readline()\n",
    "    line = f.readline().replace('\\n', '')\n",
    "    while line != '':\n",
    "        limitations.append(line)\n",
    "        line = f.readline().replace('\\n', '')\n",
    "\n",
    "    cnt = int(f.readline().replace('\\n', ''))\n",
    "    f.close()\n",
    "    return (func, limitations, cnt)"
   ]
  },
  {
   "cell_type": "code",
   "execution_count": 3,
   "metadata": {
    "collapsed": false,
    "jupyter": {
     "outputs_hidden": false
    }
   },
   "outputs": [],
   "source": [
    "class Equation():\n",
    "    def __init__(self, coefs, sign, bias):\n",
    "        self.coefs = coefs\n",
    "        self.sign = sign\n",
    "        self.bias = bias\n",
    "\n",
    "    @staticmethod\n",
    "    def parse(eq, res_sz):\n",
    "        sign = None\n",
    "        sp = eq.split('=')\n",
    "        b = 0\n",
    "        if '>=' in eq:\n",
    "            sign = '>='\n",
    "            sp = eq.split(sign)\n",
    "            b = int(sp[1])\n",
    "            eq = sp[0]\n",
    "        elif '<=' in eq:\n",
    "            sign = '<='\n",
    "            sp = eq.split(sign)\n",
    "            b = int(sp[1])\n",
    "            eq = sp[0]\n",
    "        elif '=' in eq:\n",
    "            sign = '='\n",
    "            sp = eq.split(sign)\n",
    "            b = int(sp[1])\n",
    "            eq = sp[0]\n",
    "\n",
    "        eq = eq.replace('-', '+-').replace('*', '')\n",
    "        eq = [x for x in eq.split('+') if x]\n",
    "\n",
    "        res = [0] * res_sz\n",
    "        for sub_eq in eq:\n",
    "            sub_eq = sub_eq.split('x')\n",
    "            if len(sub_eq) == 1:\n",
    "                b -= int(sub_eq[0])\n",
    "            else:\n",
    "                pos = int(sub_eq[1]) - 1\n",
    "                if (sub_eq[0] == '-'):\n",
    "                    val = -1\n",
    "                elif not sub_eq[0]:\n",
    "                    val = 1\n",
    "                else:\n",
    "                    val = int(sub_eq[0])\n",
    "\n",
    "                res[pos] += val\n",
    "        return Equation(res, sign, b)\n",
    "\n",
    "    def __str__(self):\n",
    "        return f'{self.coefs} {self.sign} {self.bias}'"
   ]
  },
  {
   "cell_type": "code",
   "execution_count": 4,
   "metadata": {
    "collapsed": false,
    "jupyter": {
     "outputs_hidden": false
    }
   },
   "outputs": [],
   "source": [
    "def to_canonical(fx, limits, n = None):\n",
    "    if n is None:\n",
    "        n = max([len(x.coefs) for x in limits])\n",
    "    addition = 0\n",
    "    for eq in limits:\n",
    "        if len(eq.coefs) < n + addition:\n",
    "            eq.coefs.extend([0] * (n + addition - len(eq.coefs)))\n",
    "        if eq.sign == '<=':\n",
    "            eq.coefs.append(1)\n",
    "            addition += 1\n",
    "            eq.sign = '='\n",
    "        elif eq.sign == '>=':\n",
    "            eq.coefs.append(-1)\n",
    "            addition += 1\n",
    "            eq.sign = '='\n",
    "\n",
    "    for eq in limits:\n",
    "        if len(eq.coefs) < n + addition:\n",
    "            eq.coefs.extend([0] * (n + addition - len(eq.coefs)))\n",
    "        if eq.bias < 0:\n",
    "            eq.bias *= -1\n",
    "            eq.coefs = list(map(lambda x: x * -1, eq.coefs))\n",
    "    fx.coefs.extend([0] * (n + addition - len(fx.coefs)))\n",
    "    return fx, limits"
   ]
  },
  {
   "cell_type": "code",
   "execution_count": 5,
   "metadata": {
    "collapsed": false,
    "jupyter": {
     "outputs_hidden": false
    }
   },
   "outputs": [],
   "source": [
    "def generate_table(canonical_func, canonical_limits):\n",
    "    limits_matrix = [[x.bias] + x.coefs for x in canonical_limits]\n",
    "    func = [-canonical_func.bias] + canonical_func.coefs\n",
    "    limits_matrix = np.array(limits_matrix, dtype=float)\n",
    "    func = np.array(func, dtype=float)\n",
    "    diag = np.zeros((limits_matrix.shape[0], limits_matrix.shape[0]), dtype=float)\n",
    "    np.fill_diagonal(diag, 1)\n",
    "    simplex_table = np.hstack((limits_matrix, diag))\n",
    "    penalty = np.sum(limits_matrix, axis=0)\n",
    "    func = np.hstack((func, [0] * limits_matrix.shape[0]))\n",
    "    penalty = np.hstack((penalty, [0] * limits_matrix.shape[0]))\n",
    "    simplex_table = np.vstack((simplex_table, -func, penalty))\n",
    "    return simplex_table"
   ]
  },
  {
   "cell_type": "code",
   "execution_count": 6,
   "metadata": {
    "collapsed": false,
    "jupyter": {
     "outputs_hidden": false
    }
   },
   "outputs": [],
   "source": [
    "def find_col(simplex_table, *, debug=False):\n",
    "    col = 1\n",
    "    for i in range (2, simplex_table.shape[1]):\n",
    "        if simplex_table[-1, i] > simplex_table[-1, col] or (simplex_table[-1, i] == simplex_table[-1, col] and simplex_table[-2, i] > simplex_table[-2, col]):\n",
    "            col = i\n",
    "    return col"
   ]
  },
  {
   "cell_type": "code",
   "execution_count": 7,
   "metadata": {},
   "outputs": [],
   "source": [
    "def check_stop(simplex_table):\n",
    "    for i in range(1, simplex_table.shape[1]):\n",
    "        if simplex_table[-1, i] > 0:\n",
    "            return True\n",
    "        if simplex_table[-2, i] > 0  and abs(simplex_table[-1, i]) == 0:\n",
    "            return True\n",
    "    return False"
   ]
  },
  {
   "cell_type": "code",
   "execution_count": 8,
   "metadata": {
    "collapsed": false,
    "jupyter": {
     "outputs_hidden": false
    }
   },
   "outputs": [],
   "source": [
    "def iterate(simplex_table, base, *, eps=1e-9, debug=False):\n",
    "    simplex_table_old = np.copy(simplex_table)\n",
    "    column = find_col(simplex_table, debug=debug)\n",
    "\n",
    "    with np.errstate(divide='ignore'):\n",
    "        d = simplex_table[:-2, 0] / simplex_table[: -2, column]\n",
    "    d[simplex_table[:-2, column] <= 0] = np.NAN\n",
    "\n",
    "    try:\n",
    "        row = np.nanargmin(d)\n",
    "    except ValueError:\n",
    "        raise RuntimeError('None or infinity solutions')\n",
    "\n",
    "    base[row] = column\n",
    "\n",
    "    if debug:\n",
    "        with np.printoptions(precision=3, suppress=True):\n",
    "            print(f'd: {d}')\n",
    "            print(f'column: {column}, row: {row}, a_rl: {simplex_table[row, column]}')\n",
    "            print(simplex_table)\n",
    "\n",
    "    simplex_table[row, :] /= simplex_table_old[row, column]\n",
    "    simplex_table[:, column] = 0\n",
    "    simplex_table[row, column] = 1\n",
    "\n",
    "    for i in range(simplex_table.shape[0]):\n",
    "        for j in range(simplex_table.shape[1]):\n",
    "            if i == row or j == column:\n",
    "                continue\n",
    "            simplex_table[i, j] = simplex_table_old[i, j] - (simplex_table_old[row, j] * simplex_table_old[i, column]) / simplex_table_old[row, column]\n",
    "\n",
    "    simplex_table[abs(simplex_table) < eps] = 0\n",
    "    return simplex_table, base"
   ]
  },
  {
   "cell_type": "code",
   "execution_count": 49,
   "metadata": {
    "collapsed": false,
    "jupyter": {
     "outputs_hidden": false
    }
   },
   "outputs": [],
   "source": [
    "def solve(canonical_func, canonical_limits, *, debug=False):\n",
    "    simplex_table = generate_table(canonical_func, canonical_limits)\n",
    "    base_n = simplex_table.shape[0] - 2\n",
    "    base = list(range(simplex_table.shape[1] - base_n, simplex_table.shape[1]))\n",
    "\n",
    "    while(check_stop(simplex_table)):\n",
    "        simplex_table, base = iterate(simplex_table, base, debug=debug)\n",
    "\n",
    "    res = np.zeros(simplex_table.shape[1] - base_n)\n",
    "    if max(base) >= len(res):\n",
    "         raise RuntimeError('None solutions')\n",
    "    res[base] = simplex_table[range(base_n), 0]\n",
    "    res[0] = simplex_table[-2, 0]\n",
    "    \n",
    "    return res"
   ]
  },
  {
   "cell_type": "code",
   "execution_count": 50,
   "metadata": {
    "collapsed": false,
    "jupyter": {
     "outputs_hidden": false
    }
   },
   "outputs": [],
   "source": [
    "from os import path\n",
    "def test(file, base_path):\n",
    "    func, limits, cnt = read_file(path.join(base_path, file))\n",
    "    func = Equation.parse(func, cnt)\n",
    "    limits = list(map(lambda x: Equation.parse(x, cnt), limits))\n",
    "    canonical_func, canonical_limits = to_canonical(func, limits, cnt)\n",
    "    with np.printoptions(precision=3, suppress=True):\n",
    "        print(solve(canonical_func, canonical_limits))"
   ]
  },
  {
   "cell_type": "code",
   "execution_count": 51,
   "metadata": {
    "collapsed": false,
    "jupyter": {
     "outputs_hidden": false
    }
   },
   "outputs": [
    {
     "name": "stdout",
     "output_type": "stream",
     "text": [
      "[-4.  0.  4.  0.  0.]\n",
      "[-6.  2.  2.  0.  0.]\n",
      "[-11.   3.   2.   4.   0.   0.]\n",
      "[-10.   4.   0.   0.   1.   7.]\n",
      "[-4.  1.  0.  1.  0.]\n",
      "[-3.     2.333  0.     0.     0.667  0.     0.   ]\n",
      "[10. 10.  0.  0.  0. 10.]\n"
     ]
    }
   ],
   "source": [
    "test_files = ['1.txt', '2.txt', '3.txt', '4.txt', '5.txt', '6.txt', '7.txt']\n",
    "base_path = r'C:\\Users\\Bill\\YandexDisk\\Primat-5th-Semester\\lab 1\\tests'\n",
    "for f in test_files:\n",
    "    test(f, base_path)"
   ]
  },
  {
   "cell_type": "code",
   "execution_count": 53,
   "metadata": {},
   "outputs": [
    {
     "ename": "RuntimeError",
     "evalue": "None solutions",
     "output_type": "error",
     "traceback": [
      "\u001b[1;31m---------------------------------------------------------------------------\u001b[0m",
      "\u001b[1;31mRuntimeError\u001b[0m                              Traceback (most recent call last)",
      "\u001b[1;32m~\\AppData\\Local\\Temp\\ipykernel_19640\\1189503524.py\u001b[0m in \u001b[0;36m<module>\u001b[1;34m\u001b[0m\n\u001b[1;32m----> 1\u001b[1;33m \u001b[0mtest\u001b[0m\u001b[1;33m(\u001b[0m\u001b[1;34m'8.txt'\u001b[0m\u001b[1;33m,\u001b[0m \u001b[0mbase_path\u001b[0m\u001b[1;33m)\u001b[0m\u001b[1;33m\u001b[0m\u001b[1;33m\u001b[0m\u001b[0m\n\u001b[0m",
      "\u001b[1;32m~\\AppData\\Local\\Temp\\ipykernel_19640\\1730025395.py\u001b[0m in \u001b[0;36mtest\u001b[1;34m(file, base_path)\u001b[0m\n\u001b[0;32m      6\u001b[0m     \u001b[0mcanonical_func\u001b[0m\u001b[1;33m,\u001b[0m \u001b[0mcanonical_limits\u001b[0m \u001b[1;33m=\u001b[0m \u001b[0mto_canonical\u001b[0m\u001b[1;33m(\u001b[0m\u001b[0mfunc\u001b[0m\u001b[1;33m,\u001b[0m \u001b[0mlimits\u001b[0m\u001b[1;33m,\u001b[0m \u001b[0mcnt\u001b[0m\u001b[1;33m)\u001b[0m\u001b[1;33m\u001b[0m\u001b[1;33m\u001b[0m\u001b[0m\n\u001b[0;32m      7\u001b[0m     \u001b[1;32mwith\u001b[0m \u001b[0mnp\u001b[0m\u001b[1;33m.\u001b[0m\u001b[0mprintoptions\u001b[0m\u001b[1;33m(\u001b[0m\u001b[0mprecision\u001b[0m\u001b[1;33m=\u001b[0m\u001b[1;36m3\u001b[0m\u001b[1;33m,\u001b[0m \u001b[0msuppress\u001b[0m\u001b[1;33m=\u001b[0m\u001b[1;32mTrue\u001b[0m\u001b[1;33m)\u001b[0m\u001b[1;33m:\u001b[0m\u001b[1;33m\u001b[0m\u001b[1;33m\u001b[0m\u001b[0m\n\u001b[1;32m----> 8\u001b[1;33m         \u001b[0mprint\u001b[0m\u001b[1;33m(\u001b[0m\u001b[0msolve\u001b[0m\u001b[1;33m(\u001b[0m\u001b[0mcanonical_func\u001b[0m\u001b[1;33m,\u001b[0m \u001b[0mcanonical_limits\u001b[0m\u001b[1;33m)\u001b[0m\u001b[1;33m)\u001b[0m\u001b[1;33m\u001b[0m\u001b[1;33m\u001b[0m\u001b[0m\n\u001b[0m",
      "\u001b[1;32m~\\AppData\\Local\\Temp\\ipykernel_19640\\2557132821.py\u001b[0m in \u001b[0;36msolve\u001b[1;34m(canonical_func, canonical_limits, debug)\u001b[0m\n\u001b[0;32m      9\u001b[0m     \u001b[0mres\u001b[0m \u001b[1;33m=\u001b[0m \u001b[0mnp\u001b[0m\u001b[1;33m.\u001b[0m\u001b[0mzeros\u001b[0m\u001b[1;33m(\u001b[0m\u001b[0msimplex_table\u001b[0m\u001b[1;33m.\u001b[0m\u001b[0mshape\u001b[0m\u001b[1;33m[\u001b[0m\u001b[1;36m1\u001b[0m\u001b[1;33m]\u001b[0m \u001b[1;33m-\u001b[0m \u001b[0mbase_n\u001b[0m\u001b[1;33m)\u001b[0m\u001b[1;33m\u001b[0m\u001b[1;33m\u001b[0m\u001b[0m\n\u001b[0;32m     10\u001b[0m     \u001b[1;32mif\u001b[0m \u001b[0mmax\u001b[0m\u001b[1;33m(\u001b[0m\u001b[0mbase\u001b[0m\u001b[1;33m)\u001b[0m \u001b[1;33m>=\u001b[0m \u001b[0mlen\u001b[0m\u001b[1;33m(\u001b[0m\u001b[0mres\u001b[0m\u001b[1;33m)\u001b[0m\u001b[1;33m:\u001b[0m\u001b[1;33m\u001b[0m\u001b[1;33m\u001b[0m\u001b[0m\n\u001b[1;32m---> 11\u001b[1;33m          \u001b[1;32mraise\u001b[0m \u001b[0mRuntimeError\u001b[0m\u001b[1;33m(\u001b[0m\u001b[1;34m'None solutions'\u001b[0m\u001b[1;33m)\u001b[0m\u001b[1;33m\u001b[0m\u001b[1;33m\u001b[0m\u001b[0m\n\u001b[0m\u001b[0;32m     12\u001b[0m     \u001b[0mres\u001b[0m\u001b[1;33m[\u001b[0m\u001b[0mbase\u001b[0m\u001b[1;33m]\u001b[0m \u001b[1;33m=\u001b[0m \u001b[0msimplex_table\u001b[0m\u001b[1;33m[\u001b[0m\u001b[0mrange\u001b[0m\u001b[1;33m(\u001b[0m\u001b[0mbase_n\u001b[0m\u001b[1;33m)\u001b[0m\u001b[1;33m,\u001b[0m \u001b[1;36m0\u001b[0m\u001b[1;33m]\u001b[0m\u001b[1;33m\u001b[0m\u001b[1;33m\u001b[0m\u001b[0m\n\u001b[0;32m     13\u001b[0m     \u001b[0mres\u001b[0m\u001b[1;33m[\u001b[0m\u001b[1;36m0\u001b[0m\u001b[1;33m]\u001b[0m \u001b[1;33m=\u001b[0m \u001b[0msimplex_table\u001b[0m\u001b[1;33m[\u001b[0m\u001b[1;33m-\u001b[0m\u001b[1;36m2\u001b[0m\u001b[1;33m,\u001b[0m \u001b[1;36m0\u001b[0m\u001b[1;33m]\u001b[0m\u001b[1;33m\u001b[0m\u001b[1;33m\u001b[0m\u001b[0m\n",
      "\u001b[1;31mRuntimeError\u001b[0m: None solutions"
     ]
    }
   ],
   "source": [
    "test('8.txt', base_path)"
   ]
  }
 ],
 "metadata": {
  "kernelspec": {
   "display_name": "Python 3 (ipykernel)",
   "language": "python",
   "name": "python3"
  },
  "language_info": {
   "codemirror_mode": {
    "name": "ipython",
    "version": 3
   },
   "file_extension": ".py",
   "mimetype": "text/x-python",
   "name": "python",
   "nbconvert_exporter": "python",
   "pygments_lexer": "ipython3",
   "version": "3.9.13"
  },
  "vscode": {
   "interpreter": {
    "hash": "dd2c36a62a887705d15e7328f4efc54d98fae31b90efcf4f562686d9ce157360"
   }
  }
 },
 "nbformat": 4,
 "nbformat_minor": 4
}
