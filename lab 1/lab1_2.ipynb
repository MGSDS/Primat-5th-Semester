{
 "cells": [
  {
   "cell_type": "code",
   "execution_count": 1,
   "metadata": {},
   "outputs": [],
   "source": [
    "import numpy as np"
   ]
  },
  {
   "cell_type": "code",
   "execution_count": 2,
   "metadata": {
    "collapsed": false,
    "jupyter": {
     "outputs_hidden": false
    }
   },
   "outputs": [],
   "source": [
    "def read_file(path):\n",
    "    f = open(path, \"r\")\n",
    "    func = f.readline().replace('\\n', '')\n",
    "    limitations = []\n",
    "    f.readline()\n",
    "    line = f.readline().replace('\\n', '')\n",
    "    while line != '':\n",
    "        limitations.append(line)\n",
    "        line = f.readline().replace('\\n', '')\n",
    "\n",
    "    cnt = int(f.readline().replace('\\n', ''))\n",
    "    f.close()\n",
    "    return (func, limitations, cnt)"
   ]
  },
  {
   "cell_type": "code",
   "execution_count": 37,
   "metadata": {
    "collapsed": false,
    "jupyter": {
     "outputs_hidden": false
    }
   },
   "outputs": [],
   "source": [
    "class Equation():\n",
    "    def __init__(self, coefs, sign, bias):\n",
    "        self.coefs = coefs\n",
    "        self.sign = sign\n",
    "        self.bias = bias\n",
    "\n",
    "    @staticmethod\n",
    "    def parse(eq, res_sz):\n",
    "        sign = None\n",
    "        sp = eq.split('=')\n",
    "        b = 0\n",
    "        if '>=' in eq:\n",
    "            sign = '>='\n",
    "            sp = eq.split(sign)\n",
    "            b = eval(sp[1])\n",
    "            eq = sp[0]\n",
    "        elif '<=' in eq:\n",
    "            sign = '<='\n",
    "            sp = eq.split(sign)\n",
    "            b = eval(sp[1])\n",
    "            eq = sp[0]\n",
    "        elif '=' in eq:\n",
    "            sign = '='\n",
    "            sp = eq.split(sign)\n",
    "            b = eval(sp[1])\n",
    "            eq = sp[0]\n",
    "\n",
    "        eq = eq.replace('-', '+-').replace('*', '')\n",
    "        eq = [x for x in eq.split('+') if x]\n",
    "\n",
    "        res = [0] * res_sz\n",
    "        for sub_eq in eq:\n",
    "            sub_eq = sub_eq.split('x')\n",
    "            if len(sub_eq) == 1:\n",
    "                b -= eval(sub_eq[0])\n",
    "            else:\n",
    "                pos = eval(sub_eq[1]) - 1\n",
    "                if (sub_eq[0] == '-'):\n",
    "                    val = -1\n",
    "                elif not sub_eq[0]:\n",
    "                    val = 1\n",
    "                else:\n",
    "                    val = eval(sub_eq[0])\n",
    "\n",
    "                res[pos] += val\n",
    "        return Equation(res, sign, b)\n",
    "\n",
    "    def __str__(self):\n",
    "        return f'{self.coefs} {self.sign} {self.bias}'"
   ]
  },
  {
   "cell_type": "code",
   "execution_count": 13,
   "metadata": {
    "collapsed": false,
    "jupyter": {
     "outputs_hidden": false
    }
   },
   "outputs": [],
   "source": [
    "def to_canonical(fx, limits, n = None):\n",
    "    if n is None:\n",
    "        n = max([len(x.coefs) for x in limits])\n",
    "    addition = 0\n",
    "    for eq in limits:\n",
    "        if len(eq.coefs) < n + addition:\n",
    "            eq.coefs.extend([0] * (n + addition - len(eq.coefs)))\n",
    "        if eq.sign == '<=':\n",
    "            eq.coefs.append(1)\n",
    "            addition += 1\n",
    "            eq.sign = '='\n",
    "        elif eq.sign == '>=':\n",
    "            eq.coefs.append(-1)\n",
    "            addition += 1\n",
    "            eq.sign = '='\n",
    "\n",
    "    for eq in limits:\n",
    "        if len(eq.coefs) < n + addition:\n",
    "            eq.coefs.extend([0] * (n + addition - len(eq.coefs)))\n",
    "        if eq.bias < 0:\n",
    "            eq.bias *= -1\n",
    "            eq.coefs = list(map(lambda x: x * -1, eq.coefs))\n",
    "    fx.coefs.extend([0] * (n + addition - len(fx.coefs)))\n",
    "    return fx, limits"
   ]
  },
  {
   "cell_type": "code",
   "execution_count": 14,
   "metadata": {
    "collapsed": false,
    "jupyter": {
     "outputs_hidden": false
    }
   },
   "outputs": [],
   "source": [
    "def generate_table(canonical_func, canonical_limits):\n",
    "    limits_matrix = [[x.bias] + x.coefs for x in canonical_limits]\n",
    "    func = [-canonical_func.bias] + canonical_func.coefs\n",
    "    limits_matrix = np.array(limits_matrix, dtype=float)\n",
    "    func = np.array(func, dtype=float)\n",
    "    diag = np.zeros((limits_matrix.shape[0], limits_matrix.shape[0]), dtype=float)\n",
    "    np.fill_diagonal(diag, 1)\n",
    "    simplex_table = np.hstack((limits_matrix, diag))\n",
    "    penalty = np.sum(limits_matrix, axis=0)\n",
    "    func = np.hstack((func, [0] * limits_matrix.shape[0]))\n",
    "    penalty = np.hstack((penalty, [0] * limits_matrix.shape[0]))\n",
    "    simplex_table = np.vstack((simplex_table, -func, penalty))\n",
    "    return simplex_table"
   ]
  },
  {
   "cell_type": "code",
   "execution_count": 6,
   "metadata": {
    "collapsed": false,
    "jupyter": {
     "outputs_hidden": false
    }
   },
   "outputs": [],
   "source": [
    "def find_col(simplex_table, *, debug=False):\n",
    "    col = 1\n",
    "    for i in range (2, simplex_table.shape[1]):\n",
    "        if simplex_table[-1, i] > simplex_table[-1, col] or (simplex_table[-1, i] == simplex_table[-1, col] and simplex_table[-2, i] > simplex_table[-2, col]):\n",
    "            col = i\n",
    "    return col"
   ]
  },
  {
   "cell_type": "code",
   "execution_count": 7,
   "metadata": {},
   "outputs": [],
   "source": [
    "def check_stop(simplex_table):\n",
    "    for i in range(1, simplex_table.shape[1]):\n",
    "        if simplex_table[-1, i] > 0:\n",
    "            return True\n",
    "        if simplex_table[-2, i] > 0  and abs(simplex_table[-1, i]) == 0:\n",
    "            return True\n",
    "    return False"
   ]
  },
  {
   "cell_type": "code",
   "execution_count": 8,
   "metadata": {
    "collapsed": false,
    "jupyter": {
     "outputs_hidden": false
    }
   },
   "outputs": [],
   "source": [
    "def iterate(simplex_table, base, *, eps=1e-9, debug=False):\n",
    "    simplex_table_old = np.copy(simplex_table)\n",
    "    column = find_col(simplex_table, debug=debug)\n",
    "\n",
    "    with np.errstate(divide='ignore'):\n",
    "        d = simplex_table[:-2, 0] / simplex_table[: -2, column]\n",
    "    d[simplex_table[:-2, column] <= 0] = np.NAN\n",
    "\n",
    "    try:\n",
    "        row = np.nanargmin(d)\n",
    "    except ValueError:\n",
    "        raise RuntimeError('None or infinity solutions')\n",
    "\n",
    "    base[row] = column\n",
    "\n",
    "    if debug:\n",
    "        with np.printoptions(precision=3, suppress=True):\n",
    "            print(f'd: {d}')\n",
    "            print(f'column: {column}, row: {row}, a_rl: {simplex_table[row, column]}')\n",
    "            print(simplex_table)\n",
    "\n",
    "    simplex_table[row, :] /= simplex_table_old[row, column]\n",
    "    simplex_table[:, column] = 0\n",
    "    simplex_table[row, column] = 1\n",
    "\n",
    "    for i in range(simplex_table.shape[0]):\n",
    "        for j in range(simplex_table.shape[1]):\n",
    "            if i == row or j == column:\n",
    "                continue\n",
    "            simplex_table[i, j] = simplex_table_old[i, j] - (simplex_table_old[row, j] * simplex_table_old[i, column]) / simplex_table_old[row, column]\n",
    "\n",
    "    simplex_table[abs(simplex_table) < eps] = 0\n",
    "    return simplex_table, base"
   ]
  },
  {
   "cell_type": "code",
   "execution_count": 58,
   "metadata": {
    "collapsed": false,
    "jupyter": {
     "outputs_hidden": false
    }
   },
   "outputs": [],
   "source": [
    "def solve(canonical_func, canonical_limits, *, debug=False):\n",
    "    simplex_table = generate_table(canonical_func, canonical_limits)\n",
    "    base_n = simplex_table.shape[0] - 2\n",
    "    base = list(range(simplex_table.shape[1] - base_n, simplex_table.shape[1]))\n",
    "\n",
    "    while(check_stop(simplex_table)):\n",
    "        simplex_table, base = iterate(simplex_table, base, debug=debug)\n",
    "\n",
    "    res = np.zeros(simplex_table.shape[1] - base_n)\n",
    "    if max(base) >= len(res):\n",
    "         raise RuntimeError('None solutions')\n",
    "    res[base] = simplex_table[range(base_n), 0]\n",
    "    res[0] = simplex_table[-2, 0]\n",
    "    \n",
    "    return res"
   ]
  },
  {
   "cell_type": "code",
   "execution_count": 49,
   "metadata": {
    "collapsed": false,
    "jupyter": {
     "outputs_hidden": false
    }
   },
   "outputs": [],
   "source": [
    "from os import path\n",
    "def test(file, base_path):\n",
    "    func, limits, cnt = read_file(path.join(base_path, file))\n",
    "    func = Equation.parse(func, cnt)\n",
    "    limits = list(map(lambda x: Equation.parse(x, cnt), limits))\n",
    "    canonical_func, canonical_limits = to_canonical(func, limits, cnt)\n",
    "    with np.printoptions(precision=3, suppress=True):\n",
    "        print(solve(canonical_func, canonical_limits, debug=True))"
   ]
  },
  {
   "cell_type": "code",
   "execution_count": 50,
   "metadata": {
    "collapsed": false,
    "jupyter": {
     "outputs_hidden": false
    }
   },
   "outputs": [
    {
     "name": "stdout",
     "output_type": "stream",
     "text": [
      "d: [1.333 0.8  ]\n",
      "column: 1, row: 1, a_rl: 5.0\n",
      "[[ 4.  3.  1. -1.  1.  1.  0.]\n",
      " [ 4.  5.  1.  1. -1.  0.  1.]\n",
      " [-0.  6.  1.  4. -5. -0. -0.]\n",
      " [ 8.  8.  2.  0.  0.  0.  0.]]\n",
      "d: [ 1. nan]\n",
      "column: 4, row: 0, a_rl: 1.6\n",
      "[[ 1.6  0.   0.4 -1.6  1.6  1.  -0.6]\n",
      " [ 0.8  1.   0.2  0.2 -0.2  0.   0.2]\n",
      " [-4.8  0.  -0.2  2.8 -3.8  0.  -1.2]\n",
      " [ 1.6  0.   0.4 -1.6  1.6  0.  -1.6]]\n",
      "d: [4. 4.]\n",
      "column: 2, row: 0, a_rl: 0.25\n",
      "[[ 1.     0.     0.25  -1.     1.     0.625 -0.375]\n",
      " [ 1.     1.     0.25   0.     0.     0.125  0.125]\n",
      " [-1.     0.     0.75  -1.     0.     2.375 -2.625]\n",
      " [ 0.     0.     0.     0.     0.    -1.    -1.   ]]\n",
      "d: [nan  0.]\n",
      "column: 3, row: 1, a_rl: 1.0\n",
      "[[ 4.   0.   1.  -4.   4.   2.5 -1.5]\n",
      " [ 0.   1.   0.   1.  -1.  -0.5  0.5]\n",
      " [-4.   0.   0.   2.  -3.   0.5 -1.5]\n",
      " [ 0.   0.   0.   0.   0.  -1.  -1. ]]\n",
      "[-4.  0.  4.  0.  0.]\n",
      "d: [4. 0.]\n",
      "column: 3, row: 1, a_rl: 1.0\n",
      "[[ 4. -1.  3.  1.  2.  1.  0.]\n",
      " [ 0.  1. -1.  1.  0.  0.  1.]\n",
      " [-0.  1.  2.  3. -1. -0. -0.]\n",
      " [ 4.  0.  2.  2.  2.  0.  0.]]\n",
      "d: [ 1. nan]\n",
      "column: 2, row: 0, a_rl: 4.0\n",
      "[[ 4. -2.  4.  0.  2.  1. -1.]\n",
      " [ 0.  1. -1.  1.  0.  0.  1.]\n",
      " [ 0. -2.  5.  0. -1.  0. -3.]\n",
      " [ 4. -2.  4.  0.  2.  0. -2.]]\n",
      "d: [nan  2.]\n",
      "column: 1, row: 1, a_rl: 0.5\n",
      "[[ 1.   -0.5   1.    0.    0.5   0.25 -0.25]\n",
      " [ 1.    0.5   0.    1.    0.5   0.25  0.75]\n",
      " [-5.    0.5   0.    0.   -3.5  -1.25 -1.75]\n",
      " [ 0.    0.    0.    0.    0.   -1.   -1.  ]]\n",
      "[-6.  2.  2.  0.  0.]\n",
      "d: [2.5 3.  3. ]\n",
      "column: 4, row: 0, a_rl: 2.0\n",
      "[[ 5.  1.  1.  0.  2.  1.  1.  0.  0.]\n",
      " [ 9.  1.  1.  1.  3.  2.  0.  1.  0.]\n",
      " [ 6.  0.  1.  1.  2.  1.  0.  0.  1.]\n",
      " [-0.  1.  2.  1. -3.  1. -0. -0. -0.]\n",
      " [20.  2.  3.  2.  7.  4.  0.  0.  0.]]\n",
      "d: [nan 1.5 1. ]\n",
      "column: 3, row: 2, a_rl: 1.0\n",
      "[[ 2.5  0.5  0.5  0.   1.   0.5  0.5  0.   0. ]\n",
      " [ 1.5 -0.5 -0.5  1.   0.   0.5 -1.5  1.   0. ]\n",
      " [ 1.  -1.   0.   1.   0.   0.  -1.   0.   1. ]\n",
      " [ 7.5  2.5  3.5  1.   0.   2.5  1.5  0.   0. ]\n",
      " [ 2.5 -1.5 -0.5  2.   0.   0.5 -3.5  0.   0. ]]\n",
      "d: [ 5.  1. nan]\n",
      "column: 1, row: 1, a_rl: 0.5\n",
      "[[ 2.5  0.5  0.5  0.   1.   0.5  0.5  0.   0. ]\n",
      " [ 0.5  0.5 -0.5  0.   0.   0.5 -0.5  1.  -1. ]\n",
      " [ 1.  -1.   0.   1.   0.   0.  -1.   0.   1. ]\n",
      " [ 6.5  3.5  3.5  0.   0.   2.5  2.5  0.  -1. ]\n",
      " [ 0.5  0.5 -0.5  0.   0.   0.5 -1.5  0.  -2. ]]\n",
      "d: [ 2. nan nan]\n",
      "column: 2, row: 0, a_rl: 1.0\n",
      "[[ 2.  0.  1.  0.  1.  0.  1. -1.  1.]\n",
      " [ 1.  1. -1.  0.  0.  1. -1.  2. -2.]\n",
      " [ 2.  0. -1.  1.  0.  1. -2.  2. -1.]\n",
      " [ 3.  0.  7.  0.  0. -1.  6. -7.  6.]\n",
      " [ 0.  0.  0.  0.  0.  0. -1. -1. -1.]]\n",
      "[-11.   3.   2.   4.   0.   0.]\n",
      "d: [2. 3. 2.]\n",
      "column: 3, row: 0, a_rl: 2.0\n",
      "[[ 4.  1.  1.  2.  0.  0.  1.  0.  0.]\n",
      " [ 6.  0.  2.  2. -1.  1.  0.  1.  0.]\n",
      " [12.  1. -1.  6.  1.  1.  0.  0.  1.]\n",
      " [-0.  1.  1.  1. -1.  1. -0. -0. -0.]\n",
      " [22.  2.  2. 10.  0.  2.  0.  0.  0.]]\n",
      "d: [nan  2.  0.]\n",
      "column: 5, row: 2, a_rl: 1.0\n",
      "[[ 2.   0.5  0.5  1.   0.   0.   0.5  0.   0. ]\n",
      " [ 2.  -1.   1.   0.  -1.   1.  -1.   1.   0. ]\n",
      " [ 0.  -2.  -4.   0.   1.   1.  -3.   0.   1. ]\n",
      " [-2.   0.5  0.5  0.  -1.   1.  -0.5  0.   0. ]\n",
      " [ 2.  -3.  -3.   0.   0.   2.  -5.   0.   0. ]]\n",
      "d: [4.  0.4 nan]\n",
      "column: 2, row: 1, a_rl: 5.0\n",
      "[[ 2.   0.5  0.5  1.   0.   0.   0.5  0.   0. ]\n",
      " [ 2.   1.   5.   0.  -2.   0.   2.   1.  -1. ]\n",
      " [ 0.  -2.  -4.   0.   1.   1.  -3.   0.   1. ]\n",
      " [-2.   2.5  4.5  0.  -2.   0.   2.5  0.  -1. ]\n",
      " [ 2.   1.   5.   0.  -2.   0.   1.   0.  -2. ]]\n",
      "d: [4.5 2.  nan]\n",
      "column: 1, row: 1, a_rl: 0.2\n",
      "[[ 1.8  0.4  0.   1.   0.2  0.   0.3 -0.1  0.1]\n",
      " [ 0.4  0.2  1.   0.  -0.4  0.   0.4  0.2 -0.2]\n",
      " [ 1.6 -1.2  0.   0.  -0.6  1.  -1.4  0.8  0.2]\n",
      " [-3.8  1.6  0.   0.  -0.2  0.   0.7 -0.9 -0.1]\n",
      " [ 0.   0.   0.   0.   0.   0.  -1.  -1.  -1. ]]\n",
      "d: [ 1. nan nan]\n",
      "column: 4, row: 0, a_rl: 1.0000000000000002\n",
      "[[ 1.   0.  -2.   1.   1.   0.  -0.5 -0.5  0.5]\n",
      " [ 2.   1.   5.   0.  -2.   0.   2.   1.  -1. ]\n",
      " [ 4.   0.   6.   0.  -3.   1.   1.   2.  -1. ]\n",
      " [-7.   0.  -8.   0.   3.   0.  -2.5 -2.5  1.5]\n",
      " [ 0.   0.   0.   0.   0.   0.  -1.  -1.  -1. ]]\n",
      "[-10.   4.   0.   0.   1.   7.]\n",
      "d: [0.    0.786]\n",
      "column: 2, row: 0, a_rl: 1.0\n",
      "[[  0.   1.   1.  -1. -10.   1.   0.]\n",
      " [ 11.   1.  14.  10. -10.   0.   1.]\n",
      " [ -0.   1.  -4.   3. -10.  -0.  -0.]\n",
      " [ 11.   2.  15.   9. -20.   0.   0.]]\n",
      "d: [  nan 0.085]\n",
      "column: 4, row: 1, a_rl: 130.0\n",
      "[[  0.   1.   1.  -1. -10.   1.   0.]\n",
      " [ 11. -13.   0.  24. 130. -14.   1.]\n",
      " [  0.   5.   0.  -1. -50.   4.   0.]\n",
      " [ 11. -13.   0.  24. 130. -15.   0.]]\n",
      "d: [1.    0.458]\n",
      "column: 3, row: 1, a_rl: 0.18461538461538463\n",
      "[[ 0.846  0.     1.     0.846  0.    -0.077  0.077]\n",
      " [ 0.085 -0.1    0.     0.185  1.    -0.108  0.008]\n",
      " [ 4.231  0.     0.     8.231  0.    -1.385  0.385]\n",
      " [ 0.     0.     0.     0.     0.    -1.    -1.   ]]\n",
      "d: [ 1. nan]\n",
      "column: 1, row: 0, a_rl: 0.4583333333333334\n",
      "[[  0.458   0.458   1.      0.     -4.583   0.417   0.042]\n",
      " [  0.458  -0.542   0.      1.      5.417  -0.583   0.042]\n",
      " [  0.458   4.458   0.      0.    -44.583   3.417   0.042]\n",
      " [  0.      0.      0.      0.      0.     -1.     -1.   ]]\n",
      "[-4.  1.  0.  1.  0.]\n",
      "d: [1.    1.333]\n",
      "column: 3, row: 0, a_rl: 3.0\n",
      "[[ 3.  1.  3.  3.  1.  1.  0.  1.  0.]\n",
      " [ 4.  2.  0.  3. -1.  0.  1.  0.  1.]\n",
      " [-0.  1. -5. -1.  1. -0. -0. -0. -0.]\n",
      " [ 7.  3.  3.  6.  0.  1.  1.  0.  0.]]\n",
      "d: [3. 1.]\n",
      "column: 1, row: 1, a_rl: 1.0\n",
      "[[ 1.     0.333  1.     1.     0.333  0.333  0.     0.333  0.   ]\n",
      " [ 1.     1.    -3.     0.    -2.    -1.     1.    -1.     1.   ]\n",
      " [ 1.     1.333 -4.     0.     1.333  0.333  0.     0.333  0.   ]\n",
      " [ 1.     1.    -3.     0.    -2.    -1.     1.    -2.     0.   ]]\n",
      "d: [0.667   nan]\n",
      "column: 4, row: 0, a_rl: 1.0\n",
      "[[ 0.667  0.     2.     1.     1.     0.667 -0.333  0.667 -0.333]\n",
      " [ 1.     1.    -3.     0.    -2.    -1.     1.    -1.     1.   ]\n",
      " [-0.333  0.     0.     0.     4.     1.667 -1.333  1.667 -1.333]\n",
      " [ 0.     0.     0.     0.     0.     0.     0.    -1.    -1.   ]]\n",
      "[-3.     2.333  0.     0.     0.667  0.     0.   ]\n",
      "d: [3.333 3.333 3.   ]\n",
      "column: 1, row: 2, a_rl: 10.0\n",
      "[[ 10.   3.   1.   1.   1.  -2.   1.   0.   0.]\n",
      " [ 20.   6.   1.   2.   3.  -4.   0.   1.   0.]\n",
      " [ 30.  10.   1.   3.   6.  -7.   0.   0.   1.]\n",
      " [ -0.   1.   1.  -1.   1.  -2.  -0.  -0.  -0.]\n",
      " [ 60.  19.   3.   6.  10. -13.   0.   0.   0.]]\n",
      "d: [ 1.429  5.    30.   ]\n",
      "column: 2, row: 0, a_rl: 0.7\n",
      "[[ 1.   0.   0.7  0.1 -0.8  0.1  1.   0.  -0.3]\n",
      " [ 2.   0.   0.4  0.2 -0.6  0.2  0.   1.  -0.6]\n",
      " [ 3.   1.   0.1  0.3  0.6 -0.7  0.   0.   0.1]\n",
      " [-3.   0.   0.9 -1.3  0.4 -1.3  0.   0.  -0.1]\n",
      " [ 3.   0.   1.1  0.3 -1.4  0.3  0.   0.  -1.9]]\n",
      "d: [10. 10. nan]\n",
      "column: 5, row: 1, a_rl: 0.142857142857143\n",
      "[[ 1.429  0.     1.     0.143 -1.143  0.143  1.429  0.    -0.429]\n",
      " [ 1.429  0.     0.     0.143 -0.143  0.143 -0.571  1.    -0.429]\n",
      " [ 2.857  1.     0.     0.286  0.714 -0.714 -0.143  0.     0.143]\n",
      " [-4.286  0.     0.    -1.429  1.429 -1.429 -1.286  0.     0.286]\n",
      " [ 1.429  0.     0.     0.143 -0.143  0.143 -1.571  0.    -1.429]]\n",
      "[10. 10.  0.  0.  0. 10.]\n"
     ]
    }
   ],
   "source": [
    "test_files = ['1.txt', '2.txt', '3.txt', '4.txt', '5.txt', '6.txt', '7.txt']\n",
    "base_path = r'C:\\Users\\mgsds\\Projects\\Primat-5th-Semester\\lab 1\\tests'\n",
    "for f in test_files:\n",
    "    test(f, base_path)"
   ]
  },
  {
   "cell_type": "code",
   "execution_count": 40,
   "metadata": {},
   "outputs": [
    {
     "name": "stdout",
     "output_type": "stream",
     "text": [
      "[2316.     230.      68.       0.       0.       0.433   24.       1.\n",
      "   18.333]\n"
     ]
    }
   ],
   "source": [
    "test('task.txt', 'C:/Users/mgsds/Projects/Primat-5th-Semester/lab 2/files')"
   ]
  },
  {
   "cell_type": "code",
   "execution_count": 57,
   "metadata": {},
   "outputs": [
    {
     "data": {
      "text/plain": [
       "array([2.50266667e+03, 1.83333333e+02, 6.80000000e+01, 4.66666667e+01,\n",
       "       0.00000000e+00, 0.00000000e+00, 2.04102564e+01, 2.07692308e+00,\n",
       "       1.83333333e+01])"
      ]
     },
     "execution_count": 57,
     "metadata": {},
     "output_type": "execute_result"
    }
   ],
   "source": [
    "func, limits, cnt = read_file(path.join('C:/Users/mgsds/Projects/Primat-5th-Semester/lab 2/files', 'task.txt'))\n",
    "func = Equation.parse(func, cnt)\n",
    "limits = list(map(lambda x: Equation.parse(x, cnt), limits))\n",
    "canonical_func, canonical_limits = to_canonical(func, limits, cnt)\n",
    "solve(canonical_func, canonical_limits, debug=False)"
   ]
  }
 ],
 "metadata": {
  "kernelspec": {
   "display_name": "Python 3 (ipykernel)",
   "language": "python",
   "name": "python3"
  },
  "language_info": {
   "codemirror_mode": {
    "name": "ipython",
    "version": 3
   },
   "file_extension": ".py",
   "mimetype": "text/x-python",
   "name": "python",
   "nbconvert_exporter": "python",
   "pygments_lexer": "ipython3",
   "version": "3.9.13 (main, Aug 25 2022, 23:51:50) [MSC v.1916 64 bit (AMD64)]"
  },
  "vscode": {
   "interpreter": {
    "hash": "3f725ea7e3a5d3eafbaa4a81110a3c41330ad30e53200f0182b3b1f19025542e"
   }
  }
 },
 "nbformat": 4,
 "nbformat_minor": 4
}
